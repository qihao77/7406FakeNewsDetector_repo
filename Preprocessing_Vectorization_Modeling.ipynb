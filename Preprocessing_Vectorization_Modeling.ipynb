{
 "cells": [
  {
   "cell_type": "code",
   "execution_count": 68,
   "metadata": {},
   "outputs": [],
   "source": [
    "import pandas as pd\n",
    "import numpy as np\n",
    "import matplotlib.pyplot as plt\n",
    "import re\n",
    "from sklearn.feature_extraction.text import CountVectorizer, ENGLISH_STOP_WORDS, TfidfVectorizer\n",
    "from wordcloud import WordCloud\n",
    "from nltk.tokenize import word_tokenize, regexp_tokenize\n",
    "from nltk.corpus import stopwords\n",
    "from collections import Counter\n",
    "from sklearn.model_selection import train_test_split\n",
    "from sklearn.naive_bayes import MultinomialNB, GaussianNB\n",
    "from sklearn.svm import SVC\n",
    "from sklearn.ensemble import RandomForestClassifier\n",
    "from sklearn.linear_model import LogisticRegression\n",
    "from sklearn.neighbors import KNeighborsClassifier\n",
    "from sklearn.metrics import accuracy_score, plot_confusion_matrix, f1_score, precision_score, recall_score\n",
    "from sklearn.preprocessing import StandardScaler, MaxAbsScaler\n",
    "from sklearn.decomposition import TruncatedSVD\n",
    "from sklearn.pipeline import Pipeline\n",
    "from sklearn.model_selection import GridSearchCV\n",
    "from nltk import word_tokenize          \n",
    "from nltk.stem import WordNetLemmatizer "
   ]
  },
  {
   "cell_type": "markdown",
   "metadata": {},
   "source": [
    "# Preprocessing Steps\n",
    "\n",
    "1. Prepare dataset: add class to indicate if the piece is real or fake news\n",
    "\n",
    "2. Tokenization to create a bag of words: remain only alphabetical lower case words\n",
    "\n",
    "3. Lemmatization/Stemming: shorten words\n",
    "\n",
    "4. Removing stopwords\n",
    "\n",
    "## Prepare dataset"
   ]
  },
  {
   "cell_type": "code",
   "execution_count": 2,
   "metadata": {},
   "outputs": [],
   "source": [
    "fake = pd.read_csv('Fake.csv')\n",
    "real = pd.read_csv('True.csv')\n",
    "fake['class'] = 1\n",
    "real['class'] = 0\n",
    "data = pd.concat([fake, real], axis=0).reset_index()"
   ]
  },
  {
   "cell_type": "code",
   "execution_count": 3,
   "metadata": {},
   "outputs": [
    {
     "data": {
      "text/html": [
       "<div>\n",
       "<style scoped>\n",
       "    .dataframe tbody tr th:only-of-type {\n",
       "        vertical-align: middle;\n",
       "    }\n",
       "\n",
       "    .dataframe tbody tr th {\n",
       "        vertical-align: top;\n",
       "    }\n",
       "\n",
       "    .dataframe thead th {\n",
       "        text-align: right;\n",
       "    }\n",
       "</style>\n",
       "<table border=\"1\" class=\"dataframe\">\n",
       "  <thead>\n",
       "    <tr style=\"text-align: right;\">\n",
       "      <th></th>\n",
       "      <th>index</th>\n",
       "      <th>title</th>\n",
       "      <th>text</th>\n",
       "      <th>subject</th>\n",
       "      <th>date</th>\n",
       "      <th>class</th>\n",
       "    </tr>\n",
       "  </thead>\n",
       "  <tbody>\n",
       "    <tr>\n",
       "      <th>0</th>\n",
       "      <td>0</td>\n",
       "      <td>Donald Trump Sends Out Embarrassing New Year’...</td>\n",
       "      <td>Donald Trump just couldn t wish all Americans ...</td>\n",
       "      <td>News</td>\n",
       "      <td>December 31, 2017</td>\n",
       "      <td>1</td>\n",
       "    </tr>\n",
       "    <tr>\n",
       "      <th>1</th>\n",
       "      <td>1</td>\n",
       "      <td>Drunk Bragging Trump Staffer Started Russian ...</td>\n",
       "      <td>House Intelligence Committee Chairman Devin Nu...</td>\n",
       "      <td>News</td>\n",
       "      <td>December 31, 2017</td>\n",
       "      <td>1</td>\n",
       "    </tr>\n",
       "    <tr>\n",
       "      <th>2</th>\n",
       "      <td>2</td>\n",
       "      <td>Sheriff David Clarke Becomes An Internet Joke...</td>\n",
       "      <td>On Friday, it was revealed that former Milwauk...</td>\n",
       "      <td>News</td>\n",
       "      <td>December 30, 2017</td>\n",
       "      <td>1</td>\n",
       "    </tr>\n",
       "    <tr>\n",
       "      <th>3</th>\n",
       "      <td>3</td>\n",
       "      <td>Trump Is So Obsessed He Even Has Obama’s Name...</td>\n",
       "      <td>On Christmas day, Donald Trump announced that ...</td>\n",
       "      <td>News</td>\n",
       "      <td>December 29, 2017</td>\n",
       "      <td>1</td>\n",
       "    </tr>\n",
       "    <tr>\n",
       "      <th>4</th>\n",
       "      <td>4</td>\n",
       "      <td>Pope Francis Just Called Out Donald Trump Dur...</td>\n",
       "      <td>Pope Francis used his annual Christmas Day mes...</td>\n",
       "      <td>News</td>\n",
       "      <td>December 25, 2017</td>\n",
       "      <td>1</td>\n",
       "    </tr>\n",
       "  </tbody>\n",
       "</table>\n",
       "</div>"
      ],
      "text/plain": [
       "   index                                              title  \\\n",
       "0      0   Donald Trump Sends Out Embarrassing New Year’...   \n",
       "1      1   Drunk Bragging Trump Staffer Started Russian ...   \n",
       "2      2   Sheriff David Clarke Becomes An Internet Joke...   \n",
       "3      3   Trump Is So Obsessed He Even Has Obama’s Name...   \n",
       "4      4   Pope Francis Just Called Out Donald Trump Dur...   \n",
       "\n",
       "                                                text subject  \\\n",
       "0  Donald Trump just couldn t wish all Americans ...    News   \n",
       "1  House Intelligence Committee Chairman Devin Nu...    News   \n",
       "2  On Friday, it was revealed that former Milwauk...    News   \n",
       "3  On Christmas day, Donald Trump announced that ...    News   \n",
       "4  Pope Francis used his annual Christmas Day mes...    News   \n",
       "\n",
       "                date  class  \n",
       "0  December 31, 2017      1  \n",
       "1  December 31, 2017      1  \n",
       "2  December 30, 2017      1  \n",
       "3  December 29, 2017      1  \n",
       "4  December 25, 2017      1  "
      ]
     },
     "execution_count": 3,
     "metadata": {},
     "output_type": "execute_result"
    }
   ],
   "source": [
    "data.head(5)"
   ]
  },
  {
   "cell_type": "markdown",
   "metadata": {},
   "source": [
    "## Preprocessing\n",
    "\n",
    "1. lowercase\n",
    "2. remain only words, not numbers"
   ]
  },
  {
   "cell_type": "code",
   "execution_count": 4,
   "metadata": {},
   "outputs": [],
   "source": [
    "data_text = data['text'].str.lower()"
   ]
  },
  {
   "cell_type": "code",
   "execution_count": 5,
   "metadata": {},
   "outputs": [],
   "source": [
    "data_text = data_text.replace(to_replace ='[^a-zA-Z]', value = ' ', regex = True)"
   ]
  },
  {
   "cell_type": "markdown",
   "metadata": {},
   "source": [
    "## Train Test split"
   ]
  },
  {
   "cell_type": "code",
   "execution_count": 6,
   "metadata": {},
   "outputs": [],
   "source": [
    "X_train, X_test, y_train, y_test = train_test_split(data_text, data['class'], test_size=0.33, random_state=7406)"
   ]
  },
  {
   "cell_type": "markdown",
   "metadata": {},
   "source": [
    "### Word Vectorization using count\n",
    "\n",
    "1. Lemmatization included in CountVectorizer"
   ]
  },
  {
   "cell_type": "code",
   "execution_count": 7,
   "metadata": {},
   "outputs": [],
   "source": [
    "class LemmaTokenizer(object):\n",
    "    def __init__(self):\n",
    "        self.wnl = WordNetLemmatizer()\n",
    "    def __call__(self, articles):\n",
    "        return [self.wnl.lemmatize(t) for t in word_tokenize(articles)]"
   ]
  },
  {
   "cell_type": "code",
   "execution_count": 8,
   "metadata": {},
   "outputs": [],
   "source": [
    "#update stopwords\n",
    "wnl = WordNetLemmatizer()\n",
    "stop_words_lemma = [wnl.lemmatize(t) for t in stopwords.words('english')]\n",
    "stop_words_lemma.extend([\"'d\", \"'ll\", \"'re\", \"'s\", \"'ve\", 'could', 'might', 'must', \"n't\", 'need', 'sha', 'wo', 'would'])"
   ]
  },
  {
   "cell_type": "code",
   "execution_count": 9,
   "metadata": {},
   "outputs": [],
   "source": [
    "# define stopwords\n",
    "stop_words = ENGLISH_STOP_WORDS\n",
    "# create CountVectorizer class\n",
    "count_vectorizer = CountVectorizer(tokenizer=LemmaTokenizer(), max_features=1000, stop_words = stop_words_lemma)\n",
    "# Transform the training data using only the 'text' column values: count_train \n",
    "count_train = count_vectorizer.fit_transform(X_train)\n",
    "\n",
    "# Transform the test data using only the 'text' column values: count_test \n",
    "count_test = count_vectorizer.transform(X_test)"
   ]
  },
  {
   "cell_type": "code",
   "execution_count": 10,
   "metadata": {},
   "outputs": [],
   "source": [
    "count_df = pd.DataFrame(count_train.toarray(), columns=count_vectorizer.get_feature_names())"
   ]
  },
  {
   "cell_type": "code",
   "execution_count": 11,
   "metadata": {},
   "outputs": [
    {
     "data": {
      "text/html": [
       "<div>\n",
       "<style scoped>\n",
       "    .dataframe tbody tr th:only-of-type {\n",
       "        vertical-align: middle;\n",
       "    }\n",
       "\n",
       "    .dataframe tbody tr th {\n",
       "        vertical-align: top;\n",
       "    }\n",
       "\n",
       "    .dataframe thead th {\n",
       "        text-align: right;\n",
       "    }\n",
       "</style>\n",
       "<table border=\"1\" class=\"dataframe\">\n",
       "  <thead>\n",
       "    <tr style=\"text-align: right;\">\n",
       "      <th></th>\n",
       "      <th>able</th>\n",
       "      <th>abortion</th>\n",
       "      <th>absolutely</th>\n",
       "      <th>access</th>\n",
       "      <th>according</th>\n",
       "      <th>account</th>\n",
       "      <th>accused</th>\n",
       "      <th>across</th>\n",
       "      <th>act</th>\n",
       "      <th>action</th>\n",
       "      <th>...</th>\n",
       "      <th>working</th>\n",
       "      <th>world</th>\n",
       "      <th>wrong</th>\n",
       "      <th>wrote</th>\n",
       "      <th>year</th>\n",
       "      <th>yes</th>\n",
       "      <th>yet</th>\n",
       "      <th>york</th>\n",
       "      <th>young</th>\n",
       "      <th>youtube</th>\n",
       "    </tr>\n",
       "  </thead>\n",
       "  <tbody>\n",
       "    <tr>\n",
       "      <th>0</th>\n",
       "      <td>0</td>\n",
       "      <td>0</td>\n",
       "      <td>0</td>\n",
       "      <td>0</td>\n",
       "      <td>1</td>\n",
       "      <td>0</td>\n",
       "      <td>0</td>\n",
       "      <td>0</td>\n",
       "      <td>0</td>\n",
       "      <td>0</td>\n",
       "      <td>...</td>\n",
       "      <td>0</td>\n",
       "      <td>4</td>\n",
       "      <td>0</td>\n",
       "      <td>0</td>\n",
       "      <td>0</td>\n",
       "      <td>0</td>\n",
       "      <td>0</td>\n",
       "      <td>0</td>\n",
       "      <td>0</td>\n",
       "      <td>0</td>\n",
       "    </tr>\n",
       "    <tr>\n",
       "      <th>1</th>\n",
       "      <td>0</td>\n",
       "      <td>0</td>\n",
       "      <td>0</td>\n",
       "      <td>0</td>\n",
       "      <td>0</td>\n",
       "      <td>0</td>\n",
       "      <td>0</td>\n",
       "      <td>0</td>\n",
       "      <td>0</td>\n",
       "      <td>0</td>\n",
       "      <td>...</td>\n",
       "      <td>0</td>\n",
       "      <td>0</td>\n",
       "      <td>0</td>\n",
       "      <td>0</td>\n",
       "      <td>1</td>\n",
       "      <td>0</td>\n",
       "      <td>0</td>\n",
       "      <td>0</td>\n",
       "      <td>0</td>\n",
       "      <td>1</td>\n",
       "    </tr>\n",
       "    <tr>\n",
       "      <th>2</th>\n",
       "      <td>0</td>\n",
       "      <td>0</td>\n",
       "      <td>0</td>\n",
       "      <td>0</td>\n",
       "      <td>0</td>\n",
       "      <td>0</td>\n",
       "      <td>0</td>\n",
       "      <td>0</td>\n",
       "      <td>0</td>\n",
       "      <td>2</td>\n",
       "      <td>...</td>\n",
       "      <td>0</td>\n",
       "      <td>0</td>\n",
       "      <td>0</td>\n",
       "      <td>0</td>\n",
       "      <td>0</td>\n",
       "      <td>0</td>\n",
       "      <td>0</td>\n",
       "      <td>0</td>\n",
       "      <td>0</td>\n",
       "      <td>0</td>\n",
       "    </tr>\n",
       "    <tr>\n",
       "      <th>3</th>\n",
       "      <td>0</td>\n",
       "      <td>0</td>\n",
       "      <td>0</td>\n",
       "      <td>6</td>\n",
       "      <td>0</td>\n",
       "      <td>0</td>\n",
       "      <td>0</td>\n",
       "      <td>1</td>\n",
       "      <td>0</td>\n",
       "      <td>0</td>\n",
       "      <td>...</td>\n",
       "      <td>0</td>\n",
       "      <td>4</td>\n",
       "      <td>0</td>\n",
       "      <td>0</td>\n",
       "      <td>4</td>\n",
       "      <td>0</td>\n",
       "      <td>1</td>\n",
       "      <td>0</td>\n",
       "      <td>0</td>\n",
       "      <td>0</td>\n",
       "    </tr>\n",
       "    <tr>\n",
       "      <th>4</th>\n",
       "      <td>1</td>\n",
       "      <td>0</td>\n",
       "      <td>0</td>\n",
       "      <td>0</td>\n",
       "      <td>1</td>\n",
       "      <td>0</td>\n",
       "      <td>0</td>\n",
       "      <td>0</td>\n",
       "      <td>0</td>\n",
       "      <td>0</td>\n",
       "      <td>...</td>\n",
       "      <td>0</td>\n",
       "      <td>0</td>\n",
       "      <td>0</td>\n",
       "      <td>0</td>\n",
       "      <td>0</td>\n",
       "      <td>0</td>\n",
       "      <td>0</td>\n",
       "      <td>1</td>\n",
       "      <td>0</td>\n",
       "      <td>0</td>\n",
       "    </tr>\n",
       "  </tbody>\n",
       "</table>\n",
       "<p>5 rows × 1000 columns</p>\n",
       "</div>"
      ],
      "text/plain": [
       "   able  abortion  absolutely  access  according  account  accused  across  \\\n",
       "0     0         0           0       0          1        0        0       0   \n",
       "1     0         0           0       0          0        0        0       0   \n",
       "2     0         0           0       0          0        0        0       0   \n",
       "3     0         0           0       6          0        0        0       1   \n",
       "4     1         0           0       0          1        0        0       0   \n",
       "\n",
       "   act  action  ...  working  world  wrong  wrote  year  yes  yet  york  \\\n",
       "0    0       0  ...        0      4      0      0     0    0    0     0   \n",
       "1    0       0  ...        0      0      0      0     1    0    0     0   \n",
       "2    0       2  ...        0      0      0      0     0    0    0     0   \n",
       "3    0       0  ...        0      4      0      0     4    0    1     0   \n",
       "4    0       0  ...        0      0      0      0     0    0    0     1   \n",
       "\n",
       "   young  youtube  \n",
       "0      0        0  \n",
       "1      0        1  \n",
       "2      0        0  \n",
       "3      0        0  \n",
       "4      0        0  \n",
       "\n",
       "[5 rows x 1000 columns]"
      ]
     },
     "execution_count": 11,
     "metadata": {},
     "output_type": "execute_result"
    }
   ],
   "source": [
    "count_df.head(5)"
   ]
  },
  {
   "cell_type": "markdown",
   "metadata": {},
   "source": [
    "### Word Vectorization using Term Frequency - Inverse Document Frequency"
   ]
  },
  {
   "cell_type": "code",
   "execution_count": 12,
   "metadata": {},
   "outputs": [],
   "source": [
    "# Initialize a TfidfVectorizer object: tfidf_vectorizer\n",
    "tfidf_vectorizer = TfidfVectorizer(tokenizer=LemmaTokenizer(), max_features=1000, stop_words = stop_words_lemma)\n",
    "\n",
    "# Transform the training data: tfidf_train \n",
    "tfidf_train = tfidf_vectorizer.fit_transform(X_train)\n",
    "\n",
    "# Transform the test data: tfidf_test \n",
    "tfidf_test = tfidf_vectorizer.transform(X_test)"
   ]
  },
  {
   "cell_type": "code",
   "execution_count": 13,
   "metadata": {},
   "outputs": [],
   "source": [
    "tfidf_df = pd.DataFrame(tfidf_train.toarray(), columns=tfidf_vectorizer.get_feature_names())"
   ]
  },
  {
   "cell_type": "code",
   "execution_count": 14,
   "metadata": {},
   "outputs": [
    {
     "data": {
      "text/html": [
       "<div>\n",
       "<style scoped>\n",
       "    .dataframe tbody tr th:only-of-type {\n",
       "        vertical-align: middle;\n",
       "    }\n",
       "\n",
       "    .dataframe tbody tr th {\n",
       "        vertical-align: top;\n",
       "    }\n",
       "\n",
       "    .dataframe thead th {\n",
       "        text-align: right;\n",
       "    }\n",
       "</style>\n",
       "<table border=\"1\" class=\"dataframe\">\n",
       "  <thead>\n",
       "    <tr style=\"text-align: right;\">\n",
       "      <th></th>\n",
       "      <th>able</th>\n",
       "      <th>abortion</th>\n",
       "      <th>absolutely</th>\n",
       "      <th>access</th>\n",
       "      <th>according</th>\n",
       "      <th>account</th>\n",
       "      <th>accused</th>\n",
       "      <th>across</th>\n",
       "      <th>act</th>\n",
       "      <th>action</th>\n",
       "      <th>...</th>\n",
       "      <th>working</th>\n",
       "      <th>world</th>\n",
       "      <th>wrong</th>\n",
       "      <th>wrote</th>\n",
       "      <th>year</th>\n",
       "      <th>yes</th>\n",
       "      <th>yet</th>\n",
       "      <th>york</th>\n",
       "      <th>young</th>\n",
       "      <th>youtube</th>\n",
       "    </tr>\n",
       "  </thead>\n",
       "  <tbody>\n",
       "    <tr>\n",
       "      <th>0</th>\n",
       "      <td>0.000000</td>\n",
       "      <td>0.0</td>\n",
       "      <td>0.0</td>\n",
       "      <td>0.000000</td>\n",
       "      <td>0.044588</td>\n",
       "      <td>0.0</td>\n",
       "      <td>0.0</td>\n",
       "      <td>0.000000</td>\n",
       "      <td>0.0</td>\n",
       "      <td>0.000000</td>\n",
       "      <td>...</td>\n",
       "      <td>0.0</td>\n",
       "      <td>0.194269</td>\n",
       "      <td>0.0</td>\n",
       "      <td>0.0</td>\n",
       "      <td>0.000000</td>\n",
       "      <td>0.0</td>\n",
       "      <td>0.000000</td>\n",
       "      <td>0.000000</td>\n",
       "      <td>0.0</td>\n",
       "      <td>0.000000</td>\n",
       "    </tr>\n",
       "    <tr>\n",
       "      <th>1</th>\n",
       "      <td>0.000000</td>\n",
       "      <td>0.0</td>\n",
       "      <td>0.0</td>\n",
       "      <td>0.000000</td>\n",
       "      <td>0.000000</td>\n",
       "      <td>0.0</td>\n",
       "      <td>0.0</td>\n",
       "      <td>0.000000</td>\n",
       "      <td>0.0</td>\n",
       "      <td>0.000000</td>\n",
       "      <td>...</td>\n",
       "      <td>0.0</td>\n",
       "      <td>0.000000</td>\n",
       "      <td>0.0</td>\n",
       "      <td>0.0</td>\n",
       "      <td>0.024103</td>\n",
       "      <td>0.0</td>\n",
       "      <td>0.000000</td>\n",
       "      <td>0.000000</td>\n",
       "      <td>0.0</td>\n",
       "      <td>0.056287</td>\n",
       "    </tr>\n",
       "    <tr>\n",
       "      <th>2</th>\n",
       "      <td>0.000000</td>\n",
       "      <td>0.0</td>\n",
       "      <td>0.0</td>\n",
       "      <td>0.000000</td>\n",
       "      <td>0.000000</td>\n",
       "      <td>0.0</td>\n",
       "      <td>0.0</td>\n",
       "      <td>0.000000</td>\n",
       "      <td>0.0</td>\n",
       "      <td>0.213613</td>\n",
       "      <td>...</td>\n",
       "      <td>0.0</td>\n",
       "      <td>0.000000</td>\n",
       "      <td>0.0</td>\n",
       "      <td>0.0</td>\n",
       "      <td>0.000000</td>\n",
       "      <td>0.0</td>\n",
       "      <td>0.000000</td>\n",
       "      <td>0.000000</td>\n",
       "      <td>0.0</td>\n",
       "      <td>0.000000</td>\n",
       "    </tr>\n",
       "    <tr>\n",
       "      <th>3</th>\n",
       "      <td>0.000000</td>\n",
       "      <td>0.0</td>\n",
       "      <td>0.0</td>\n",
       "      <td>0.346049</td>\n",
       "      <td>0.000000</td>\n",
       "      <td>0.0</td>\n",
       "      <td>0.0</td>\n",
       "      <td>0.049592</td>\n",
       "      <td>0.0</td>\n",
       "      <td>0.000000</td>\n",
       "      <td>...</td>\n",
       "      <td>0.0</td>\n",
       "      <td>0.161348</td>\n",
       "      <td>0.0</td>\n",
       "      <td>0.0</td>\n",
       "      <td>0.106989</td>\n",
       "      <td>0.0</td>\n",
       "      <td>0.046902</td>\n",
       "      <td>0.000000</td>\n",
       "      <td>0.0</td>\n",
       "      <td>0.000000</td>\n",
       "    </tr>\n",
       "    <tr>\n",
       "      <th>4</th>\n",
       "      <td>0.039529</td>\n",
       "      <td>0.0</td>\n",
       "      <td>0.0</td>\n",
       "      <td>0.000000</td>\n",
       "      <td>0.028672</td>\n",
       "      <td>0.0</td>\n",
       "      <td>0.0</td>\n",
       "      <td>0.000000</td>\n",
       "      <td>0.0</td>\n",
       "      <td>0.000000</td>\n",
       "      <td>...</td>\n",
       "      <td>0.0</td>\n",
       "      <td>0.000000</td>\n",
       "      <td>0.0</td>\n",
       "      <td>0.0</td>\n",
       "      <td>0.000000</td>\n",
       "      <td>0.0</td>\n",
       "      <td>0.000000</td>\n",
       "      <td>0.034826</td>\n",
       "      <td>0.0</td>\n",
       "      <td>0.000000</td>\n",
       "    </tr>\n",
       "  </tbody>\n",
       "</table>\n",
       "<p>5 rows × 1000 columns</p>\n",
       "</div>"
      ],
      "text/plain": [
       "       able  abortion  absolutely    access  according  account  accused  \\\n",
       "0  0.000000       0.0         0.0  0.000000   0.044588      0.0      0.0   \n",
       "1  0.000000       0.0         0.0  0.000000   0.000000      0.0      0.0   \n",
       "2  0.000000       0.0         0.0  0.000000   0.000000      0.0      0.0   \n",
       "3  0.000000       0.0         0.0  0.346049   0.000000      0.0      0.0   \n",
       "4  0.039529       0.0         0.0  0.000000   0.028672      0.0      0.0   \n",
       "\n",
       "     across  act    action  ...  working     world  wrong  wrote      year  \\\n",
       "0  0.000000  0.0  0.000000  ...      0.0  0.194269    0.0    0.0  0.000000   \n",
       "1  0.000000  0.0  0.000000  ...      0.0  0.000000    0.0    0.0  0.024103   \n",
       "2  0.000000  0.0  0.213613  ...      0.0  0.000000    0.0    0.0  0.000000   \n",
       "3  0.049592  0.0  0.000000  ...      0.0  0.161348    0.0    0.0  0.106989   \n",
       "4  0.000000  0.0  0.000000  ...      0.0  0.000000    0.0    0.0  0.000000   \n",
       "\n",
       "   yes       yet      york  young   youtube  \n",
       "0  0.0  0.000000  0.000000    0.0  0.000000  \n",
       "1  0.0  0.000000  0.000000    0.0  0.056287  \n",
       "2  0.0  0.000000  0.000000    0.0  0.000000  \n",
       "3  0.0  0.046902  0.000000    0.0  0.000000  \n",
       "4  0.0  0.000000  0.034826    0.0  0.000000  \n",
       "\n",
       "[5 rows x 1000 columns]"
      ]
     },
     "execution_count": 14,
     "metadata": {},
     "output_type": "execute_result"
    }
   ],
   "source": [
    "tfidf_df.head(5)"
   ]
  },
  {
   "cell_type": "markdown",
   "metadata": {},
   "source": [
    "#### check if the count vectorization returns same features as tfidf"
   ]
  },
  {
   "cell_type": "code",
   "execution_count": 15,
   "metadata": {},
   "outputs": [
    {
     "name": "stdout",
     "output_type": "stream",
     "text": [
      "set()\n"
     ]
    }
   ],
   "source": [
    "# Calculate the difference in columns: difference\n",
    "difference = set(count_df.columns) - set(tfidf_df.columns)\n",
    "print(difference)"
   ]
  },
  {
   "cell_type": "markdown",
   "metadata": {},
   "source": [
    "## Dimensionality Reduction"
   ]
  },
  {
   "cell_type": "code",
   "execution_count": 177,
   "metadata": {},
   "outputs": [
    {
     "data": {
      "image/png": "[encoded data removed]",
      "text/plain": [
       "<Figure size 432x432 with 1 Axes>"
      ]
     },
     "metadata": {
      "needs_background": "light"
     },
     "output_type": "display_data"
    }
   ],
   "source": [
    "svd = TruncatedSVD(n_components=999)\n",
    "svd.fit(count_train)\n",
    "cumsum = np.cumsum(svd.explained_variance_ratio_)*100\n",
    "d = [n for n in range(len(cumsum))]\n",
    "plt.figure(figsize=(6, 6))\n",
    "plt.plot(d,cumsum, color = 'red',label='cumulative explained variance')\n",
    "plt.title('Cumulative Explained Variance as a Function of the Number of Components')\n",
    "plt.ylabel('Cumulative Explained variance')\n",
    "plt.xlabel('Principal components')\n",
    "plt.axhline(y = 55, color='k', linestyle='--', label = '55% Explained Variance')\n",
    "plt.legend(loc='best')\n",
    "plt.show()"
   ]
  },
  {
   "cell_type": "code",
   "execution_count": 179,
   "metadata": {},
   "outputs": [],
   "source": [
    "svd_count = TruncatedSVD(n_components=100)\n",
    "svd_count.fit(count_train)\n",
    "transformed_count_train = svd_count.transform(count_train)\n",
    "transformed_count_test = svd_count.transform(count_test)"
   ]
  },
  {
   "cell_type": "code",
   "execution_count": 178,
   "metadata": {},
   "outputs": [
    {
     "data": {
      "image/png": "[encoded data removed]",
      "text/plain": [
       "<Figure size 432x432 with 1 Axes>"
      ]
     },
     "metadata": {
      "needs_background": "light"
     },
     "output_type": "display_data"
    }
   ],
   "source": [
    "svd = TruncatedSVD(n_components=999)\n",
    "svd.fit(tfidf_train)\n",
    "cumsum = np.cumsum(svd.explained_variance_ratio_)*100\n",
    "d = [n for n in range(len(cumsum))]\n",
    "plt.figure(figsize=(6, 6))\n",
    "plt.plot(d,cumsum, color = 'red',label='cumulative explained variance')\n",
    "plt.title('Cumulative Explained Variance as a Function of the Number of Components')\n",
    "plt.ylabel('Cumulative Explained variance')\n",
    "plt.xlabel('Principal components')\n",
    "plt.axhline(y = 55, color='k', linestyle='--', label = '55% Explained Variance')\n",
    "plt.legend(loc='best')\n",
    "plt.show()"
   ]
  },
  {
   "cell_type": "code",
   "execution_count": 180,
   "metadata": {},
   "outputs": [],
   "source": [
    "svd_tfidf = TruncatedSVD(n_components=200)\n",
    "svd_tfidf.fit(tfidf_train)\n",
    "transformed_tfidf_train = svd_tfidf.transform(tfidf_train)\n",
    "transformed_tfidf_test = svd_tfidf.transform(tfidf_test)"
   ]
  },
  {
   "cell_type": "markdown",
   "metadata": {},
   "source": [
    "## Classifiers on Count\n",
    "\n",
    "**1. Logistic Regression: with parameter tuning on $C$ (penalty strength)**"
   ]
  },
  {
   "cell_type": "code",
   "execution_count": 181,
   "metadata": {},
   "outputs": [
    {
     "data": {
      "text/plain": [
       "GridSearchCV(estimator=LogisticRegression(max_iter=500, random_state=7406),\n",
       "             param_grid={'C': array([0.1, 0.2, 0.3, 0.4, 0.5, 0.6, 0.7, 0.8, 0.9, 1. ])})"
      ]
     },
     "execution_count": 181,
     "metadata": {},
     "output_type": "execute_result"
    }
   ],
   "source": [
    "lg_params = {'C': np.linspace(0.1,1,10)}\n",
    "lg = LogisticRegression(random_state =7406, max_iter=500, penalty='l2')\n",
    "lg_gscv = GridSearchCV(lg, lg_params)\n",
    "lg_gscv.fit(transformed_count_train, y_train)"
   ]
  },
  {
   "cell_type": "code",
   "execution_count": 165,
   "metadata": {},
   "outputs": [
    {
     "data": {
      "text/plain": [
       "array([0.1, 0.2, 0.3, 0.4, 0.5, 0.6, 0.7, 0.8, 0.9, 1. ])"
      ]
     },
     "execution_count": 165,
     "metadata": {},
     "output_type": "execute_result"
    }
   ],
   "source": [
    "np.linspace(0.1,1,10)"
   ]
  },
  {
   "cell_type": "code",
   "execution_count": 182,
   "metadata": {},
   "outputs": [
    {
     "data": {
      "text/html": [
       "<div>\n",
       "<style scoped>\n",
       "    .dataframe tbody tr th:only-of-type {\n",
       "        vertical-align: middle;\n",
       "    }\n",
       "\n",
       "    .dataframe tbody tr th {\n",
       "        vertical-align: top;\n",
       "    }\n",
       "\n",
       "    .dataframe thead th {\n",
       "        text-align: right;\n",
       "    }\n",
       "</style>\n",
       "<table border=\"1\" class=\"dataframe\">\n",
       "  <thead>\n",
       "    <tr style=\"text-align: right;\">\n",
       "      <th></th>\n",
       "      <th>mean_fit_time</th>\n",
       "      <th>std_fit_time</th>\n",
       "      <th>mean_score_time</th>\n",
       "      <th>std_score_time</th>\n",
       "      <th>param_C</th>\n",
       "      <th>params</th>\n",
       "      <th>split0_test_score</th>\n",
       "      <th>split1_test_score</th>\n",
       "      <th>split2_test_score</th>\n",
       "      <th>split3_test_score</th>\n",
       "      <th>split4_test_score</th>\n",
       "      <th>mean_test_score</th>\n",
       "      <th>std_test_score</th>\n",
       "      <th>rank_test_score</th>\n",
       "    </tr>\n",
       "  </thead>\n",
       "  <tbody>\n",
       "    <tr>\n",
       "      <th>0</th>\n",
       "      <td>0.17</td>\n",
       "      <td>0.03</td>\n",
       "      <td>0.0</td>\n",
       "      <td>0.0</td>\n",
       "      <td>0.1</td>\n",
       "      <td>{'C': 0.1}</td>\n",
       "      <td>0.97</td>\n",
       "      <td>0.98</td>\n",
       "      <td>0.98</td>\n",
       "      <td>0.98</td>\n",
       "      <td>0.98</td>\n",
       "      <td>0.98</td>\n",
       "      <td>0.0</td>\n",
       "      <td>2</td>\n",
       "    </tr>\n",
       "    <tr>\n",
       "      <th>1</th>\n",
       "      <td>0.19</td>\n",
       "      <td>0.03</td>\n",
       "      <td>0.0</td>\n",
       "      <td>0.0</td>\n",
       "      <td>0.2</td>\n",
       "      <td>{'C': 0.2}</td>\n",
       "      <td>0.97</td>\n",
       "      <td>0.98</td>\n",
       "      <td>0.98</td>\n",
       "      <td>0.98</td>\n",
       "      <td>0.98</td>\n",
       "      <td>0.98</td>\n",
       "      <td>0.0</td>\n",
       "      <td>4</td>\n",
       "    </tr>\n",
       "    <tr>\n",
       "      <th>2</th>\n",
       "      <td>0.17</td>\n",
       "      <td>0.03</td>\n",
       "      <td>0.0</td>\n",
       "      <td>0.0</td>\n",
       "      <td>0.3</td>\n",
       "      <td>{'C': 0.30000000000000004}</td>\n",
       "      <td>0.97</td>\n",
       "      <td>0.98</td>\n",
       "      <td>0.98</td>\n",
       "      <td>0.98</td>\n",
       "      <td>0.98</td>\n",
       "      <td>0.98</td>\n",
       "      <td>0.0</td>\n",
       "      <td>1</td>\n",
       "    </tr>\n",
       "    <tr>\n",
       "      <th>3</th>\n",
       "      <td>0.19</td>\n",
       "      <td>0.02</td>\n",
       "      <td>0.0</td>\n",
       "      <td>0.0</td>\n",
       "      <td>0.4</td>\n",
       "      <td>{'C': 0.4}</td>\n",
       "      <td>0.97</td>\n",
       "      <td>0.98</td>\n",
       "      <td>0.98</td>\n",
       "      <td>0.98</td>\n",
       "      <td>0.98</td>\n",
       "      <td>0.98</td>\n",
       "      <td>0.0</td>\n",
       "      <td>3</td>\n",
       "    </tr>\n",
       "    <tr>\n",
       "      <th>4</th>\n",
       "      <td>0.19</td>\n",
       "      <td>0.03</td>\n",
       "      <td>0.0</td>\n",
       "      <td>0.0</td>\n",
       "      <td>0.5</td>\n",
       "      <td>{'C': 0.5}</td>\n",
       "      <td>0.97</td>\n",
       "      <td>0.98</td>\n",
       "      <td>0.98</td>\n",
       "      <td>0.98</td>\n",
       "      <td>0.98</td>\n",
       "      <td>0.98</td>\n",
       "      <td>0.0</td>\n",
       "      <td>10</td>\n",
       "    </tr>\n",
       "    <tr>\n",
       "      <th>5</th>\n",
       "      <td>0.18</td>\n",
       "      <td>0.03</td>\n",
       "      <td>0.0</td>\n",
       "      <td>0.0</td>\n",
       "      <td>0.6</td>\n",
       "      <td>{'C': 0.6}</td>\n",
       "      <td>0.97</td>\n",
       "      <td>0.98</td>\n",
       "      <td>0.98</td>\n",
       "      <td>0.98</td>\n",
       "      <td>0.98</td>\n",
       "      <td>0.98</td>\n",
       "      <td>0.0</td>\n",
       "      <td>8</td>\n",
       "    </tr>\n",
       "    <tr>\n",
       "      <th>6</th>\n",
       "      <td>0.20</td>\n",
       "      <td>0.03</td>\n",
       "      <td>0.0</td>\n",
       "      <td>0.0</td>\n",
       "      <td>0.7</td>\n",
       "      <td>{'C': 0.7000000000000001}</td>\n",
       "      <td>0.97</td>\n",
       "      <td>0.98</td>\n",
       "      <td>0.98</td>\n",
       "      <td>0.98</td>\n",
       "      <td>0.98</td>\n",
       "      <td>0.98</td>\n",
       "      <td>0.0</td>\n",
       "      <td>7</td>\n",
       "    </tr>\n",
       "    <tr>\n",
       "      <th>7</th>\n",
       "      <td>0.20</td>\n",
       "      <td>0.02</td>\n",
       "      <td>0.0</td>\n",
       "      <td>0.0</td>\n",
       "      <td>0.8</td>\n",
       "      <td>{'C': 0.8}</td>\n",
       "      <td>0.97</td>\n",
       "      <td>0.98</td>\n",
       "      <td>0.98</td>\n",
       "      <td>0.98</td>\n",
       "      <td>0.98</td>\n",
       "      <td>0.98</td>\n",
       "      <td>0.0</td>\n",
       "      <td>5</td>\n",
       "    </tr>\n",
       "    <tr>\n",
       "      <th>8</th>\n",
       "      <td>0.18</td>\n",
       "      <td>0.01</td>\n",
       "      <td>0.0</td>\n",
       "      <td>0.0</td>\n",
       "      <td>0.9</td>\n",
       "      <td>{'C': 0.9}</td>\n",
       "      <td>0.97</td>\n",
       "      <td>0.98</td>\n",
       "      <td>0.98</td>\n",
       "      <td>0.98</td>\n",
       "      <td>0.98</td>\n",
       "      <td>0.98</td>\n",
       "      <td>0.0</td>\n",
       "      <td>5</td>\n",
       "    </tr>\n",
       "    <tr>\n",
       "      <th>9</th>\n",
       "      <td>0.17</td>\n",
       "      <td>0.03</td>\n",
       "      <td>0.0</td>\n",
       "      <td>0.0</td>\n",
       "      <td>1</td>\n",
       "      <td>{'C': 1.0}</td>\n",
       "      <td>0.97</td>\n",
       "      <td>0.98</td>\n",
       "      <td>0.98</td>\n",
       "      <td>0.98</td>\n",
       "      <td>0.98</td>\n",
       "      <td>0.98</td>\n",
       "      <td>0.0</td>\n",
       "      <td>8</td>\n",
       "    </tr>\n",
       "  </tbody>\n",
       "</table>\n",
       "</div>"
      ],
      "text/plain": [
       "   mean_fit_time  std_fit_time  mean_score_time  std_score_time param_C  \\\n",
       "0           0.17          0.03              0.0             0.0     0.1   \n",
       "1           0.19          0.03              0.0             0.0     0.2   \n",
       "2           0.17          0.03              0.0             0.0     0.3   \n",
       "3           0.19          0.02              0.0             0.0     0.4   \n",
       "4           0.19          0.03              0.0             0.0     0.5   \n",
       "5           0.18          0.03              0.0             0.0     0.6   \n",
       "6           0.20          0.03              0.0             0.0     0.7   \n",
       "7           0.20          0.02              0.0             0.0     0.8   \n",
       "8           0.18          0.01              0.0             0.0     0.9   \n",
       "9           0.17          0.03              0.0             0.0       1   \n",
       "\n",
       "                       params  split0_test_score  split1_test_score  \\\n",
       "0                  {'C': 0.1}               0.97               0.98   \n",
       "1                  {'C': 0.2}               0.97               0.98   \n",
       "2  {'C': 0.30000000000000004}               0.97               0.98   \n",
       "3                  {'C': 0.4}               0.97               0.98   \n",
       "4                  {'C': 0.5}               0.97               0.98   \n",
       "5                  {'C': 0.6}               0.97               0.98   \n",
       "6   {'C': 0.7000000000000001}               0.97               0.98   \n",
       "7                  {'C': 0.8}               0.97               0.98   \n",
       "8                  {'C': 0.9}               0.97               0.98   \n",
       "9                  {'C': 1.0}               0.97               0.98   \n",
       "\n",
       "   split2_test_score  split3_test_score  split4_test_score  mean_test_score  \\\n",
       "0               0.98               0.98               0.98             0.98   \n",
       "1               0.98               0.98               0.98             0.98   \n",
       "2               0.98               0.98               0.98             0.98   \n",
       "3               0.98               0.98               0.98             0.98   \n",
       "4               0.98               0.98               0.98             0.98   \n",
       "5               0.98               0.98               0.98             0.98   \n",
       "6               0.98               0.98               0.98             0.98   \n",
       "7               0.98               0.98               0.98             0.98   \n",
       "8               0.98               0.98               0.98             0.98   \n",
       "9               0.98               0.98               0.98             0.98   \n",
       "\n",
       "   std_test_score  rank_test_score  \n",
       "0             0.0                2  \n",
       "1             0.0                4  \n",
       "2             0.0                1  \n",
       "3             0.0                3  \n",
       "4             0.0               10  \n",
       "5             0.0                8  \n",
       "6             0.0                7  \n",
       "7             0.0                5  \n",
       "8             0.0                5  \n",
       "9             0.0                8  "
      ]
     },
     "execution_count": 182,
     "metadata": {},
     "output_type": "execute_result"
    }
   ],
   "source": [
    "pd.DataFrame(lg_gscv.cv_results_).round(2)"
   ]
  },
  {
   "cell_type": "code",
   "execution_count": 183,
   "metadata": {},
   "outputs": [
    {
     "data": {
      "image/png": "[encoded data removed]",
      "text/plain": [
       "<Figure size 432x288 with 1 Axes>"
      ]
     },
     "metadata": {
      "needs_background": "light"
     },
     "output_type": "display_data"
    }
   ],
   "source": [
    "plt.plot(np.linspace(0.1,1,10), lg_gscv.cv_results_['mean_test_score'])\n",
    "plt.xlabel('C values')\n",
    "plt.ylabel('mean test score')\n",
    "plt.show()"
   ]
  },
  {
   "cell_type": "code",
   "execution_count": 184,
   "metadata": {},
   "outputs": [
    {
     "name": "stdout",
     "output_type": "stream",
     "text": [
      "The optimal value of C after parameter tuning:  {'C': 0.30000000000000004}\n"
     ]
    }
   ],
   "source": [
    "print(\"The optimal value of C after parameter tuning: \", lg_gscv.best_params_)"
   ]
  },
  {
   "cell_type": "markdown",
   "metadata": {},
   "source": [
    "---- Prediction ----"
   ]
  },
  {
   "cell_type": "code",
   "execution_count": 185,
   "metadata": {},
   "outputs": [],
   "source": [
    "lg_count = LogisticRegression(random_state =7406, max_iter=500, penalty='l2', C=0.3)\n",
    "lg_count.fit(transformed_count_train, y_train)\n",
    "pred_lg_count = lg_count.predict(transformed_count_test)"
   ]
  },
  {
   "cell_type": "code",
   "execution_count": 186,
   "metadata": {},
   "outputs": [
    {
     "data": {
      "image/png": "[encoded data removed]",
      "text/plain": [
       "<Figure size 432x288 with 2 Axes>"
      ]
     },
     "metadata": {
      "needs_background": "light"
     },
     "output_type": "display_data"
    }
   ],
   "source": [
    "plot_confusion_matrix(lg_count, transformed_count_test, y_test, cmap='Blues')\n",
    "plt.show()"
   ]
  },
  {
   "cell_type": "code",
   "execution_count": 187,
   "metadata": {},
   "outputs": [
    {
     "name": "stdout",
     "output_type": "stream",
     "text": [
      "The f1 score of logistic regression model on counts:  0.9772489539748953\n"
     ]
    }
   ],
   "source": [
    "lg_count_f1 = f1_score(y_test, pred_lg_count)\n",
    "print(\"The f1 score of logistic regression model on counts: \", lg_count_f1)"
   ]
  },
  {
   "cell_type": "code",
   "execution_count": 188,
   "metadata": {},
   "outputs": [
    {
     "name": "stdout",
     "output_type": "stream",
     "text": [
      "The precision score of logistic regression model on counts:  0.9781442219604763\n"
     ]
    }
   ],
   "source": [
    "lg_count_precision = precision_score(y_test, pred_lg_count)\n",
    "print(\"The precision score of logistic regression model on counts: \", lg_count_precision)"
   ]
  },
  {
   "cell_type": "code",
   "execution_count": 189,
   "metadata": {},
   "outputs": [
    {
     "name": "stdout",
     "output_type": "stream",
     "text": [
      "The recall score of logistic regression model on counts:  0.9763553233180927\n"
     ]
    }
   ],
   "source": [
    "lg_count_recall = recall_score(y_test, pred_lg_count)\n",
    "print(\"The recall score of logistic regression model on counts: \", lg_count_recall)"
   ]
  },
  {
   "cell_type": "code",
   "execution_count": 190,
   "metadata": {},
   "outputs": [
    {
     "name": "stdout",
     "output_type": "stream",
     "text": [
      "The accuracy score of logistic regression model on counts:  0.9765134642640211\n"
     ]
    }
   ],
   "source": [
    "lg_count_acc = accuracy_score(y_test, pred_lg_count)\n",
    "print(\"The accuracy score of logistic regression model on counts: \", lg_count_acc)"
   ]
  },
  {
   "cell_type": "markdown",
   "metadata": {},
   "source": [
    "**2. Support Vector Machine**"
   ]
  },
  {
   "cell_type": "code",
   "execution_count": 191,
   "metadata": {},
   "outputs": [
    {
     "data": {
      "text/plain": [
       "GridSearchCV(estimator=SVC(random_state=123),\n",
       "             param_grid={'kernel': ['linear', 'rbf']})"
      ]
     },
     "execution_count": 191,
     "metadata": {},
     "output_type": "execute_result"
    }
   ],
   "source": [
    "svm_params = {'kernel': ['linear','rbf']}\n",
    "svm = SVC(random_state=123)\n",
    "svm_gscv = GridSearchCV(svm, svm_params)\n",
    "svm_gscv.fit(transformed_count_train, y_train)"
   ]
  },
  {
   "cell_type": "code",
   "execution_count": 200,
   "metadata": {},
   "outputs": [
    {
     "data": {
      "image/png": "[encoded data removed]",
      "text/plain": [
       "<Figure size 432x288 with 1 Axes>"
      ]
     },
     "metadata": {
      "needs_background": "light"
     },
     "output_type": "display_data"
    }
   ],
   "source": [
    "plt.bar(['linear', 'rbf'], svm_gscv.cv_results_['mean_test_score'])\n",
    "plt.xlabel('kernel')\n",
    "plt.ylabel('mean test score')\n",
    "plt.ylim([0.96, 1])\n",
    "plt.show()"
   ]
  },
  {
   "cell_type": "code",
   "execution_count": 193,
   "metadata": {},
   "outputs": [
    {
     "name": "stdout",
     "output_type": "stream",
     "text": [
      "The optimal value of C after parameter tuning:  {'kernel': 'rbf'}\n"
     ]
    }
   ],
   "source": [
    "print(\"The optimal value of C after parameter tuning: \", svm_gscv.best_params_)"
   ]
  },
  {
   "cell_type": "markdown",
   "metadata": {},
   "source": [
    "---- Prediction ----"
   ]
  },
  {
   "cell_type": "code",
   "execution_count": 201,
   "metadata": {},
   "outputs": [],
   "source": [
    "svm_count = SVC(random_state=123, kernel='rbf')\n",
    "svm_count.fit(transformed_count_train, y_train)\n",
    "pred_svm_count = svm_count.predict(transformed_count_test)"
   ]
  },
  {
   "cell_type": "code",
   "execution_count": 202,
   "metadata": {},
   "outputs": [
    {
     "data": {
      "image/png": "[encoded data removed]",
      "text/plain": [
       "<Figure size 432x288 with 2 Axes>"
      ]
     },
     "metadata": {
      "needs_background": "light"
     },
     "output_type": "display_data"
    }
   ],
   "source": [
    "plot_confusion_matrix(svm_count, transformed_count_test, y_test, cmap='Blues')\n",
    "plt.show()"
   ]
  },
  {
   "cell_type": "code",
   "execution_count": 203,
   "metadata": {},
   "outputs": [
    {
     "name": "stdout",
     "output_type": "stream",
     "text": [
      "The f1 score of support vector machine on counts:  0.9829753797799896\n"
     ]
    }
   ],
   "source": [
    "svm_count_f1 = f1_score(y_test, pred_svm_count)\n",
    "print(\"The f1 score of support vector machine on counts: \", svm_count_f1)"
   ]
  },
  {
   "cell_type": "code",
   "execution_count": 204,
   "metadata": {},
   "outputs": [
    {
     "name": "stdout",
     "output_type": "stream",
     "text": [
      "The precision score of support vector machine on counts:  0.985427333595904\n"
     ]
    }
   ],
   "source": [
    "svm_count_precision = precision_score(y_test, pred_svm_count)\n",
    "print(\"The precision score of support vector machine on counts: \", svm_count_precision)"
   ]
  },
  {
   "cell_type": "code",
   "execution_count": 205,
   "metadata": {},
   "outputs": [
    {
     "name": "stdout",
     "output_type": "stream",
     "text": [
      "The recall score of support vector machine on counts:  0.9805355976485957\n"
     ]
    }
   ],
   "source": [
    "svm_count_recall = recall_score(y_test, pred_svm_count)\n",
    "print(\"The recall score of support vector machine on counts: \", svm_count_recall)"
   ]
  },
  {
   "cell_type": "code",
   "execution_count": 206,
   "metadata": {},
   "outputs": [
    {
     "name": "stdout",
     "output_type": "stream",
     "text": [
      "The accuracy score of support vector machine on counts:  0.9824525882432341\n"
     ]
    }
   ],
   "source": [
    "svm_count_acc = accuracy_score(y_test, pred_svm_count)\n",
    "print(\"The accuracy score of support vector machine on counts: \", svm_count_acc)"
   ]
  },
  {
   "cell_type": "markdown",
   "metadata": {},
   "source": [
    "**3. Random Forest**"
   ]
  },
  {
   "cell_type": "code",
   "execution_count": 207,
   "metadata": {},
   "outputs": [
    {
     "data": {
      "text/plain": [
       "GridSearchCV(estimator=RandomForestClassifier(),\n",
       "             param_grid={'max_features': ['auto', 'sqrt'],\n",
       "                         'n_estimators': [10, 100, 500]})"
      ]
     },
     "execution_count": 207,
     "metadata": {},
     "output_type": "execute_result"
    }
   ],
   "source": [
    "rf_params = {'n_estimators': [10, 100, 500], \\\n",
    "             'max_features': ['auto', 'sqrt']}\n",
    "rf = RandomForestClassifier(criterion='gini')\n",
    "rf_gscv = GridSearchCV(rf, rf_params)\n",
    "rf_gscv.fit(transformed_count_train, y_train)"
   ]
  },
  {
   "cell_type": "code",
   "execution_count": 208,
   "metadata": {},
   "outputs": [
    {
     "name": "stdout",
     "output_type": "stream",
     "text": [
      "The optimal value of C after parameter tuning:  {'max_features': 'sqrt', 'n_estimators': 500}\n"
     ]
    }
   ],
   "source": [
    "print(\"The optimal value of C after parameter tuning: \", rf_gscv.best_params_)"
   ]
  },
  {
   "cell_type": "markdown",
   "metadata": {},
   "source": [
    "---- Prediction ----"
   ]
  },
  {
   "cell_type": "code",
   "execution_count": 223,
   "metadata": {},
   "outputs": [],
   "source": [
    "rf_count = RandomForestClassifier(criterion='gini', n_estimators=500, max_features='sqrt')\n",
    "rf_count.fit(transformed_count_train, y_train)\n",
    "pred_rf_count = rf_count.predict(transformed_count_test)"
   ]
  },
  {
   "cell_type": "code",
   "execution_count": 224,
   "metadata": {},
   "outputs": [
    {
     "data": {
      "image/png": "[encoded data removed]",
      "text/plain": [
       "<Figure size 432x288 with 2 Axes>"
      ]
     },
     "metadata": {
      "needs_background": "light"
     },
     "output_type": "display_data"
    }
   ],
   "source": [
    "plot_confusion_matrix(rf_count, transformed_count_test, y_test, cmap='Blues')\n",
    "plt.show()"
   ]
  },
  {
   "cell_type": "code",
   "execution_count": 225,
   "metadata": {},
   "outputs": [
    {
     "name": "stdout",
     "output_type": "stream",
     "text": [
      "The f1 score of random forest on counts:  0.9589917722345566\n"
     ]
    }
   ],
   "source": [
    "rf_count_f1 = f1_score(y_test, pred_rf_count)\n",
    "print(\"The f1 score of random forest on counts: \", rf_count_f1)"
   ]
  },
  {
   "cell_type": "code",
   "execution_count": 226,
   "metadata": {},
   "outputs": [
    {
     "name": "stdout",
     "output_type": "stream",
     "text": [
      "The precision score of random forest on counts:  0.9587413500456978\n"
     ]
    }
   ],
   "source": [
    "rf_count_precision = precision_score(y_test, pred_rf_count)\n",
    "print(\"The precision score of random forest on counts: \", rf_count_precision)"
   ]
  },
  {
   "cell_type": "code",
   "execution_count": 227,
   "metadata": {},
   "outputs": [
    {
     "name": "stdout",
     "output_type": "stream",
     "text": [
      "The recall score of random forest on counts:  0.9592423252775963\n"
     ]
    }
   ],
   "source": [
    "rf_count_recall = recall_score(y_test, pred_rf_count)\n",
    "print(\"The recall score of random forest on counts: \", rf_count_recall)"
   ]
  },
  {
   "cell_type": "code",
   "execution_count": 228,
   "metadata": {},
   "outputs": [
    {
     "name": "stdout",
     "output_type": "stream",
     "text": [
      "The accuracy score of random forest on counts:  0.9576162516028885\n"
     ]
    }
   ],
   "source": [
    "rf_count_acc = accuracy_score(y_test, pred_rf_count)\n",
    "print(\"The accuracy score of random forest on counts: \", rf_count_acc)"
   ]
  },
  {
   "cell_type": "markdown",
   "metadata": {},
   "source": [
    "**4. K Nearest Neighbor**"
   ]
  },
  {
   "cell_type": "code",
   "execution_count": 210,
   "metadata": {},
   "outputs": [
    {
     "data": {
      "text/plain": [
       "GridSearchCV(estimator=KNeighborsClassifier(),\n",
       "             param_grid={'n_neighbors': [20, 40, 60, 80, 100]})"
      ]
     },
     "execution_count": 210,
     "metadata": {},
     "output_type": "execute_result"
    }
   ],
   "source": [
    "knn_params = {'n_neighbors': [20, 40, 60, 80, 100]}\n",
    "knn = KNeighborsClassifier()\n",
    "knn_gscv = GridSearchCV(knn, knn_params)\n",
    "knn_gscv.fit(transformed_count_train, y_train)"
   ]
  },
  {
   "cell_type": "code",
   "execution_count": 211,
   "metadata": {},
   "outputs": [
    {
     "data": {
      "image/png": "[encoded data removed]",
      "text/plain": [
       "<Figure size 432x288 with 1 Axes>"
      ]
     },
     "metadata": {
      "needs_background": "light"
     },
     "output_type": "display_data"
    }
   ],
   "source": [
    "plt.plot([20, 40, 60, 80, 100], knn_gscv.cv_results_['mean_test_score'])\n",
    "plt.xlabel('Number of Neighbors')\n",
    "plt.ylabel('mean test score')\n",
    "plt.show()"
   ]
  },
  {
   "cell_type": "code",
   "execution_count": 212,
   "metadata": {},
   "outputs": [
    {
     "name": "stdout",
     "output_type": "stream",
     "text": [
      "The optimal value of C after parameter tuning:  {'n_neighbors': 20}\n"
     ]
    }
   ],
   "source": [
    "print(\"The optimal value of C after parameter tuning: \", knn_gscv.best_params_)"
   ]
  },
  {
   "cell_type": "markdown",
   "metadata": {},
   "source": [
    "---- Prediction ----"
   ]
  },
  {
   "cell_type": "code",
   "execution_count": 229,
   "metadata": {},
   "outputs": [],
   "source": [
    "knn_count = KNeighborsClassifier(n_neighbors=20)\n",
    "knn_count.fit(transformed_count_train, y_train)\n",
    "pred_knn_count = knn_count.predict(transformed_count_test)"
   ]
  },
  {
   "cell_type": "code",
   "execution_count": 230,
   "metadata": {},
   "outputs": [
    {
     "data": {
      "image/png": "[encoded data removed]",
      "text/plain": [
       "<Figure size 432x288 with 2 Axes>"
      ]
     },
     "metadata": {
      "needs_background": "light"
     },
     "output_type": "display_data"
    }
   ],
   "source": [
    "plot_confusion_matrix(knn_count, transformed_count_test, y_test, cmap='Blues')\n",
    "plt.show()"
   ]
  },
  {
   "cell_type": "code",
   "execution_count": 231,
   "metadata": {},
   "outputs": [
    {
     "name": "stdout",
     "output_type": "stream",
     "text": [
      "The f1 score of k nearest neighbor on counts:  0.9196246430028561\n"
     ]
    }
   ],
   "source": [
    "knn_count_f1 = f1_score(y_test, pred_knn_count)\n",
    "print(\"The f1 score of k nearest neighbor on counts: \", knn_count_f1)"
   ]
  },
  {
   "cell_type": "code",
   "execution_count": 232,
   "metadata": {},
   "outputs": [
    {
     "name": "stdout",
     "output_type": "stream",
     "text": [
      "The precision score of k nearest neighbor on counts:  0.9590129059707843\n"
     ]
    }
   ],
   "source": [
    "knn_count_precision = precision_score(y_test, pred_knn_count)\n",
    "print(\"The precision score of k nearest neighbor on counts: \", knn_count_precision)"
   ]
  },
  {
   "cell_type": "code",
   "execution_count": 233,
   "metadata": {},
   "outputs": [
    {
     "name": "stdout",
     "output_type": "stream",
     "text": [
      "The recall score of k nearest neighbor on counts:  0.8833442194644023\n"
     ]
    }
   ],
   "source": [
    "knn_count_recall = recall_score(y_test, pred_knn_count)\n",
    "print(\"The recall score of k nearest neighbor on counts: \", knn_count_recall)"
   ]
  },
  {
   "cell_type": "code",
   "execution_count": 234,
   "metadata": {},
   "outputs": [
    {
     "name": "stdout",
     "output_type": "stream",
     "text": [
      "The accuracy score of k nearest neighbor on counts:  0.9202267665519336\n"
     ]
    }
   ],
   "source": [
    "knn_count_acc = accuracy_score(y_test, pred_knn_count)\n",
    "print(\"The accuracy score of k nearest neighbor on counts: \", knn_count_acc)"
   ]
  },
  {
   "cell_type": "markdown",
   "metadata": {},
   "source": [
    "## Classifiers on tfidf\n",
    "\n",
    "**1. Logistic Regression**"
   ]
  },
  {
   "cell_type": "code",
   "execution_count": 213,
   "metadata": {},
   "outputs": [
    {
     "data": {
      "text/plain": [
       "GridSearchCV(estimator=LogisticRegression(max_iter=500, random_state=7406),\n",
       "             param_grid={'C': array([0.1, 0.2, 0.3, 0.4, 0.5, 0.6, 0.7, 0.8, 0.9, 1. ])})"
      ]
     },
     "execution_count": 213,
     "metadata": {},
     "output_type": "execute_result"
    }
   ],
   "source": [
    "lg_params = {'C': np.linspace(0.1,1,10)}\n",
    "lg = LogisticRegression(random_state =7406, max_iter=500, penalty='l2')\n",
    "lg_gscv = GridSearchCV(lg, lg_params)\n",
    "lg_gscv.fit(transformed_tfidf_train, y_train)"
   ]
  },
  {
   "cell_type": "code",
   "execution_count": 214,
   "metadata": {},
   "outputs": [
    {
     "data": {
      "image/png": "[encoded data removed]",
      "text/plain": [
       "<Figure size 432x288 with 1 Axes>"
      ]
     },
     "metadata": {
      "needs_background": "light"
     },
     "output_type": "display_data"
    }
   ],
   "source": [
    "plt.plot(np.linspace(0.1,1,10), lg_gscv.cv_results_['mean_test_score'])\n",
    "plt.xlabel('C values')\n",
    "plt.ylabel('mean test score')\n",
    "plt.show()"
   ]
  },
  {
   "cell_type": "code",
   "execution_count": 215,
   "metadata": {},
   "outputs": [
    {
     "name": "stdout",
     "output_type": "stream",
     "text": [
      "The optimal value of C after parameter tuning:  {'C': 1.0}\n"
     ]
    }
   ],
   "source": [
    "print(\"The optimal value of C after parameter tuning: \", lg_gscv.best_params_)"
   ]
  },
  {
   "cell_type": "markdown",
   "metadata": {},
   "source": [
    "----Prediction----"
   ]
  },
  {
   "cell_type": "code",
   "execution_count": 235,
   "metadata": {},
   "outputs": [],
   "source": [
    "lg_tfidf = LogisticRegression(random_state =7406, max_iter=500, penalty='l2', C=1.0)\n",
    "lg_tfidf.fit(transformed_tfidf_train, y_train)\n",
    "pred_lg_tfidf = lg_tfidf.predict(transformed_tfidf_test)"
   ]
  },
  {
   "cell_type": "code",
   "execution_count": 236,
   "metadata": {},
   "outputs": [
    {
     "data": {
      "image/png": "[encoded data removed]",
      "text/plain": [
       "<Figure size 432x288 with 2 Axes>"
      ]
     },
     "metadata": {
      "needs_background": "light"
     },
     "output_type": "display_data"
    }
   ],
   "source": [
    "plot_confusion_matrix(lg_tfidf, transformed_tfidf_test, y_test, cmap='Blues')\n",
    "plt.show()"
   ]
  },
  {
   "cell_type": "code",
   "execution_count": 237,
   "metadata": {},
   "outputs": [
    {
     "name": "stdout",
     "output_type": "stream",
     "text": [
      "The f1 score of logistic regression on counts:  0.974698479286838\n"
     ]
    }
   ],
   "source": [
    "lg_tfidf_f1 = f1_score(y_test, pred_lg_tfidf)\n",
    "print(\"The f1 score of logistic regression on counts: \", lg_tfidf_f1)"
   ]
  },
  {
   "cell_type": "code",
   "execution_count": 238,
   "metadata": {},
   "outputs": [
    {
     "name": "stdout",
     "output_type": "stream",
     "text": [
      "The precision score of logistic regression on counts:  0.9781607683199579\n"
     ]
    }
   ],
   "source": [
    "lg_tfidf_precision = precision_score(y_test, pred_lg_tfidf)\n",
    "print(\"The precision score of logistic regression on counts: \", lg_tfidf_precision)"
   ]
  },
  {
   "cell_type": "code",
   "execution_count": 239,
   "metadata": {},
   "outputs": [
    {
     "name": "stdout",
     "output_type": "stream",
     "text": [
      "The recall score of logistic regression on counts:  0.9712606139777923\n"
     ]
    }
   ],
   "source": [
    "lg_tfidf_recall = recall_score(y_test, pred_lg_tfidf)\n",
    "print(\"The recall score of logistic regression on counts: \", lg_tfidf_recall)"
   ]
  },
  {
   "cell_type": "code",
   "execution_count": 240,
   "metadata": {},
   "outputs": [
    {
     "name": "stdout",
     "output_type": "stream",
     "text": [
      "The accuracy score of logistic regression on tfidf scores:  0.9739488425457246\n"
     ]
    }
   ],
   "source": [
    "lg_tfidf_acc = accuracy_score(y_test, pred_lg_tfidf)\n",
    "print(\"The accuracy score of logistic regression on tfidf scores: \", lg_tfidf_acc)"
   ]
  },
  {
   "cell_type": "markdown",
   "metadata": {},
   "source": [
    "**2. Support Vector Machine**"
   ]
  },
  {
   "cell_type": "code",
   "execution_count": 216,
   "metadata": {},
   "outputs": [
    {
     "data": {
      "text/plain": [
       "GridSearchCV(estimator=SVC(random_state=123),\n",
       "             param_grid={'kernel': ['linear', 'rbf']})"
      ]
     },
     "execution_count": 216,
     "metadata": {},
     "output_type": "execute_result"
    }
   ],
   "source": [
    "svm_params = {'kernel': ['linear','rbf']}\n",
    "svm = SVC(random_state=123)\n",
    "svm_gscv = GridSearchCV(svm, svm_params)\n",
    "svm_gscv.fit(transformed_tfidf_train, y_train)"
   ]
  },
  {
   "cell_type": "code",
   "execution_count": 217,
   "metadata": {},
   "outputs": [
    {
     "data": {
      "image/png": "[encoded data removed]",
      "text/plain": [
       "<Figure size 432x288 with 1 Axes>"
      ]
     },
     "metadata": {
      "needs_background": "light"
     },
     "output_type": "display_data"
    }
   ],
   "source": [
    "plt.bar(['linear', 'rbf'], svm_gscv.cv_results_['mean_test_score'])\n",
    "plt.xlabel('kernel')\n",
    "plt.ylabel('mean test score')\n",
    "plt.ylim([0.94, 1])\n",
    "plt.show()"
   ]
  },
  {
   "cell_type": "code",
   "execution_count": 218,
   "metadata": {},
   "outputs": [
    {
     "name": "stdout",
     "output_type": "stream",
     "text": [
      "The optimal value of C after parameter tuning:  {'kernel': 'rbf'}\n"
     ]
    }
   ],
   "source": [
    "print(\"The optimal value of C after parameter tuning: \", svm_gscv.best_params_)"
   ]
  },
  {
   "cell_type": "markdown",
   "metadata": {},
   "source": [
    "---- Prediction ----"
   ]
  },
  {
   "cell_type": "code",
   "execution_count": 241,
   "metadata": {},
   "outputs": [],
   "source": [
    "svm_tfidf = SVC(random_state=123, kernel='rbf')\n",
    "svm_tfidf.fit(transformed_tfidf_train, y_train)\n",
    "pred_svm_tfidf = svm_tfidf.predict(transformed_tfidf_test)"
   ]
  },
  {
   "cell_type": "code",
   "execution_count": 242,
   "metadata": {},
   "outputs": [
    {
     "data": {
      "image/png": "[encoded data removed]",
      "text/plain": [
       "<Figure size 432x288 with 2 Axes>"
      ]
     },
     "metadata": {
      "needs_background": "light"
     },
     "output_type": "display_data"
    }
   ],
   "source": [
    "plot_confusion_matrix(svm_tfidf, transformed_tfidf_test, y_test, cmap='Blues')\n",
    "plt.show()"
   ]
  },
  {
   "cell_type": "code",
   "execution_count": 243,
   "metadata": {},
   "outputs": [
    {
     "name": "stdout",
     "output_type": "stream",
     "text": [
      "The f1 score of support vector machine on counts:  0.9854124419441356\n"
     ]
    }
   ],
   "source": [
    "svm_tfidf_f1 = f1_score(y_test, pred_svm_tfidf)\n",
    "print(\"The f1 score of support vector machine on counts: \", svm_tfidf_f1)"
   ]
  },
  {
   "cell_type": "code",
   "execution_count": 244,
   "metadata": {},
   "outputs": [
    {
     "name": "stdout",
     "output_type": "stream",
     "text": [
      "The precision score of support vector machine on counts:  0.9868972746331237\n"
     ]
    }
   ],
   "source": [
    "svm_tfidf_precision = precision_score(y_test, pred_svm_tfidf)\n",
    "print(\"The precision score of support vector machine on counts: \", svm_tfidf_precision)"
   ]
  },
  {
   "cell_type": "code",
   "execution_count": 245,
   "metadata": {},
   "outputs": [
    {
     "name": "stdout",
     "output_type": "stream",
     "text": [
      "The recall score of support vector machine on counts:  0.9839320705421293\n"
     ]
    }
   ],
   "source": [
    "svm_tfidf_recall = recall_score(y_test, pred_svm_tfidf)\n",
    "print(\"The recall score of support vector machine on counts: \", svm_tfidf_recall)"
   ]
  },
  {
   "cell_type": "code",
   "execution_count": 246,
   "metadata": {},
   "outputs": [
    {
     "name": "stdout",
     "output_type": "stream",
     "text": [
      "The accuracy score of support vector machine on tfidf scores:  0.9849497199163123\n"
     ]
    }
   ],
   "source": [
    "svm_tfidf_acc = accuracy_score(y_test, pred_svm_tfidf)\n",
    "print(\"The accuracy score of support vector machine on tfidf scores: \", svm_tfidf_acc)"
   ]
  },
  {
   "cell_type": "markdown",
   "metadata": {},
   "source": [
    "**3. Random Forest**"
   ]
  },
  {
   "cell_type": "code",
   "execution_count": 219,
   "metadata": {},
   "outputs": [
    {
     "data": {
      "text/plain": [
       "GridSearchCV(estimator=RandomForestClassifier(),\n",
       "             param_grid={'max_features': ['auto', 'sqrt'],\n",
       "                         'n_estimators': [10, 100, 500]})"
      ]
     },
     "execution_count": 219,
     "metadata": {},
     "output_type": "execute_result"
    }
   ],
   "source": [
    "rf_params = {'n_estimators': [10, 100, 500], \\\n",
    "             'max_features': ['auto', 'sqrt']}\n",
    "rf = RandomForestClassifier(criterion='gini')\n",
    "rf_gscv = GridSearchCV(rf, rf_params)\n",
    "rf_gscv.fit(transformed_tfidf_train, y_train)"
   ]
  },
  {
   "cell_type": "code",
   "execution_count": 220,
   "metadata": {},
   "outputs": [
    {
     "name": "stdout",
     "output_type": "stream",
     "text": [
      "The optimal value of C after parameter tuning:  {'max_features': 'auto', 'n_estimators': 500}\n"
     ]
    }
   ],
   "source": [
    "print(\"The optimal value of C after parameter tuning: \", rf_gscv.best_params_)"
   ]
  },
  {
   "cell_type": "markdown",
   "metadata": {},
   "source": [
    "---- Prediction ----"
   ]
  },
  {
   "cell_type": "code",
   "execution_count": 247,
   "metadata": {},
   "outputs": [],
   "source": [
    "rf_tfidf = RandomForestClassifier(criterion='gini', n_estimators= 500, max_features='auto')\n",
    "rf_tfidf.fit(transformed_tfidf_train, y_train)\n",
    "pred_rf_tfidf = rf_tfidf.predict(transformed_tfidf_test)"
   ]
  },
  {
   "cell_type": "code",
   "execution_count": 248,
   "metadata": {},
   "outputs": [
    {
     "data": {
      "image/png": "[encoded data removed]",
      "text/plain": [
       "<Figure size 432x288 with 2 Axes>"
      ]
     },
     "metadata": {
      "needs_background": "light"
     },
     "output_type": "display_data"
    }
   ],
   "source": [
    "plot_confusion_matrix(rf_tfidf, transformed_tfidf_test, y_test, cmap='Blues')\n",
    "plt.show()"
   ]
  },
  {
   "cell_type": "code",
   "execution_count": 249,
   "metadata": {},
   "outputs": [
    {
     "name": "stdout",
     "output_type": "stream",
     "text": [
      "The f1 score of random forest on counts:  0.964390721986279\n"
     ]
    }
   ],
   "source": [
    "rf_tfidf_f1 = f1_score(y_test, pred_rf_tfidf)\n",
    "print(\"The f1 score of random forest on counts: \", rf_tfidf_f1)"
   ]
  },
  {
   "cell_type": "code",
   "execution_count": 250,
   "metadata": {},
   "outputs": [
    {
     "name": "stdout",
     "output_type": "stream",
     "text": [
      "The precision score of random forest on counts:  0.9647058823529412\n"
     ]
    }
   ],
   "source": [
    "rf_tfidf_precision = precision_score(y_test, pred_rf_tfidf)\n",
    "print(\"The precision score of random forest on counts: \", rf_tfidf_precision)"
   ]
  },
  {
   "cell_type": "code",
   "execution_count": 251,
   "metadata": {},
   "outputs": [
    {
     "name": "stdout",
     "output_type": "stream",
     "text": [
      "The recall score of random forest on counts:  0.9640757674722403\n"
     ]
    }
   ],
   "source": [
    "rf_tfidf_recall = recall_score(y_test, pred_rf_tfidf)\n",
    "print(\"The recall score of random forest on counts: \", rf_tfidf_recall)"
   ]
  },
  {
   "cell_type": "code",
   "execution_count": 252,
   "metadata": {},
   "outputs": [
    {
     "name": "stdout",
     "output_type": "stream",
     "text": [
      "The accuracy score of random forest on tfidf scores:  0.96321792535601\n"
     ]
    }
   ],
   "source": [
    "rf_tfidf_acc = accuracy_score(y_test, pred_rf_tfidf)\n",
    "print(\"The accuracy score of random forest on tfidf scores: \", rf_tfidf_acc)"
   ]
  },
  {
   "cell_type": "markdown",
   "metadata": {},
   "source": [
    "**4. K Nearest Neighbor**"
   ]
  },
  {
   "cell_type": "code",
   "execution_count": 221,
   "metadata": {},
   "outputs": [
    {
     "data": {
      "text/plain": [
       "GridSearchCV(estimator=KNeighborsClassifier(),\n",
       "             param_grid={'n_neighbors': [20, 40, 60, 80, 100]})"
      ]
     },
     "execution_count": 221,
     "metadata": {},
     "output_type": "execute_result"
    }
   ],
   "source": [
    "knn_params = {'n_neighbors': [20, 40, 60, 80, 100]}\n",
    "knn = KNeighborsClassifier()\n",
    "knn_gscv = GridSearchCV(knn, knn_params)\n",
    "knn_gscv.fit(transformed_tfidf_train, y_train)"
   ]
  },
  {
   "cell_type": "code",
   "execution_count": 222,
   "metadata": {},
   "outputs": [
    {
     "data": {
      "image/png": "[encoded data removed]",
      "text/plain": [
       "<Figure size 432x288 with 1 Axes>"
      ]
     },
     "metadata": {
      "needs_background": "light"
     },
     "output_type": "display_data"
    }
   ],
   "source": [
    "plt.plot([20, 40, 60, 80, 100], knn_gscv.cv_results_['mean_test_score'])\n",
    "plt.xlabel('Number of Neighbors')\n",
    "plt.ylabel('mean test score')\n",
    "plt.show()"
   ]
  },
  {
   "cell_type": "markdown",
   "metadata": {},
   "source": [
    "---- Prediction ----"
   ]
  },
  {
   "cell_type": "code",
   "execution_count": 253,
   "metadata": {},
   "outputs": [],
   "source": [
    "knn_tfidf = KNeighborsClassifier(n_neighbors= 20)\n",
    "knn_tfidf.fit(transformed_tfidf_train, y_train)\n",
    "pred_knn_tfidf = knn_tfidf.predict(transformed_tfidf_test)"
   ]
  },
  {
   "cell_type": "code",
   "execution_count": 254,
   "metadata": {},
   "outputs": [
    {
     "data": {
      "image/png": "[encoded data removed]",
      "text/plain": [
       "<Figure size 432x288 with 2 Axes>"
      ]
     },
     "metadata": {
      "needs_background": "light"
     },
     "output_type": "display_data"
    }
   ],
   "source": [
    "plot_confusion_matrix(knn_tfidf, transformed_tfidf_test, y_test, cmap='Blues')\n",
    "plt.show()"
   ]
  },
  {
   "cell_type": "code",
   "execution_count": 255,
   "metadata": {},
   "outputs": [
    {
     "name": "stdout",
     "output_type": "stream",
     "text": [
      "The f1 score of k nearest neighbor on counts:  0.9096254633772209\n"
     ]
    }
   ],
   "source": [
    "knn_tfidf_f1 = f1_score(y_test, pred_knn_tfidf)\n",
    "print(\"The f1 score of k nearest neighbor on counts: \", knn_tfidf_f1)"
   ]
  },
  {
   "cell_type": "code",
   "execution_count": 256,
   "metadata": {},
   "outputs": [
    {
     "name": "stdout",
     "output_type": "stream",
     "text": [
      "The precision score of k nearest neighbor on counts:  0.890501814541359\n"
     ]
    }
   ],
   "source": [
    "knn_tfidf_precision = precision_score(y_test, pred_knn_tfidf)\n",
    "print(\"The precision score of k nearest neighbor on counts: \", knn_tfidf_precision)"
   ]
  },
  {
   "cell_type": "code",
   "execution_count": 257,
   "metadata": {},
   "outputs": [
    {
     "name": "stdout",
     "output_type": "stream",
     "text": [
      "The recall score of k nearest neighbor on counts:  0.9295885042455911\n"
     ]
    }
   ],
   "source": [
    "knn_tfidf_recall = recall_score(y_test, pred_knn_tfidf)\n",
    "print(\"The recall score of k nearest neighbor on counts: \", knn_tfidf_recall)"
   ]
  },
  {
   "cell_type": "code",
   "execution_count": 258,
   "metadata": {},
   "outputs": [
    {
     "name": "stdout",
     "output_type": "stream",
     "text": [
      "The accuracy score of k nearest neighbor on tfidf scores:  0.904569076061281\n"
     ]
    }
   ],
   "source": [
    "knn_tfidf_acc = accuracy_score(y_test, pred_knn_tfidf)\n",
    "print(\"The accuracy score of k nearest neighbor on tfidf scores: \", knn_tfidf_acc)"
   ]
  },
  {
   "cell_type": "markdown",
   "metadata": {},
   "source": [
    "## Model Comparison"
   ]
  },
  {
   "cell_type": "code",
   "execution_count": 259,
   "metadata": {},
   "outputs": [
    {
     "data": {
      "text/html": [
       "<div>\n",
       "<style scoped>\n",
       "    .dataframe tbody tr th:only-of-type {\n",
       "        vertical-align: middle;\n",
       "    }\n",
       "\n",
       "    .dataframe tbody tr th {\n",
       "        vertical-align: top;\n",
       "    }\n",
       "\n",
       "    .dataframe thead th {\n",
       "        text-align: right;\n",
       "    }\n",
       "</style>\n",
       "<table border=\"1\" class=\"dataframe\">\n",
       "  <thead>\n",
       "    <tr style=\"text-align: right;\">\n",
       "      <th></th>\n",
       "      <th>Logistic Regression</th>\n",
       "      <th>SVM</th>\n",
       "      <th>Random Forest</th>\n",
       "      <th>K Nearest Neighbor</th>\n",
       "    </tr>\n",
       "  </thead>\n",
       "  <tbody>\n",
       "    <tr>\n",
       "      <th>count - accuracy</th>\n",
       "      <td>0.976513</td>\n",
       "      <td>0.982453</td>\n",
       "      <td>0.957616</td>\n",
       "      <td>0.920227</td>\n",
       "    </tr>\n",
       "    <tr>\n",
       "      <th>count - f1 score</th>\n",
       "      <td>0.977249</td>\n",
       "      <td>0.982975</td>\n",
       "      <td>0.958992</td>\n",
       "      <td>0.919625</td>\n",
       "    </tr>\n",
       "    <tr>\n",
       "      <th>count - precision</th>\n",
       "      <td>0.978144</td>\n",
       "      <td>0.985427</td>\n",
       "      <td>0.958741</td>\n",
       "      <td>0.959013</td>\n",
       "    </tr>\n",
       "    <tr>\n",
       "      <th>count - recall</th>\n",
       "      <td>0.976355</td>\n",
       "      <td>0.980536</td>\n",
       "      <td>0.959242</td>\n",
       "      <td>0.883344</td>\n",
       "    </tr>\n",
       "    <tr>\n",
       "      <th>tfidf_accuracy</th>\n",
       "      <td>0.973949</td>\n",
       "      <td>0.984950</td>\n",
       "      <td>0.963218</td>\n",
       "      <td>0.904569</td>\n",
       "    </tr>\n",
       "    <tr>\n",
       "      <th>tfidf - f1 score</th>\n",
       "      <td>0.974698</td>\n",
       "      <td>0.985412</td>\n",
       "      <td>0.964391</td>\n",
       "      <td>0.909625</td>\n",
       "    </tr>\n",
       "    <tr>\n",
       "      <th>tfidf - precision</th>\n",
       "      <td>0.978161</td>\n",
       "      <td>0.986897</td>\n",
       "      <td>0.964706</td>\n",
       "      <td>0.890502</td>\n",
       "    </tr>\n",
       "    <tr>\n",
       "      <th>tfidf_recall</th>\n",
       "      <td>0.971261</td>\n",
       "      <td>0.983932</td>\n",
       "      <td>0.964076</td>\n",
       "      <td>0.929589</td>\n",
       "    </tr>\n",
       "  </tbody>\n",
       "</table>\n",
       "</div>"
      ],
      "text/plain": [
       "                   Logistic Regression       SVM  Random Forest  \\\n",
       "count - accuracy              0.976513  0.982453       0.957616   \n",
       "count - f1 score              0.977249  0.982975       0.958992   \n",
       "count - precision             0.978144  0.985427       0.958741   \n",
       "count - recall                0.976355  0.980536       0.959242   \n",
       "tfidf_accuracy                0.973949  0.984950       0.963218   \n",
       "tfidf - f1 score              0.974698  0.985412       0.964391   \n",
       "tfidf - precision             0.978161  0.986897       0.964706   \n",
       "tfidf_recall                  0.971261  0.983932       0.964076   \n",
       "\n",
       "                   K Nearest Neighbor  \n",
       "count - accuracy             0.920227  \n",
       "count - f1 score             0.919625  \n",
       "count - precision            0.959013  \n",
       "count - recall               0.883344  \n",
       "tfidf_accuracy               0.904569  \n",
       "tfidf - f1 score             0.909625  \n",
       "tfidf - precision            0.890502  \n",
       "tfidf_recall                 0.929589  "
      ]
     },
     "execution_count": 259,
     "metadata": {},
     "output_type": "execute_result"
    }
   ],
   "source": [
    "model_compare = pd.DataFrame([[lg_count_acc, svm_count_acc, rf_count_acc, knn_count_acc], \\\n",
    "                              [lg_count_f1, svm_count_f1, rf_count_f1, knn_count_f1], \\\n",
    "                              [lg_count_precision, svm_count_precision, rf_count_precision, knn_count_precision], \\\n",
    "                              [lg_count_recall, svm_count_recall, rf_count_recall, knn_count_recall], \\\n",
    "                              [lg_tfidf_acc, svm_tfidf_acc, rf_tfidf_acc, knn_tfidf_acc], \\\n",
    "                              [lg_tfidf_f1, svm_tfidf_f1, rf_tfidf_f1, knn_tfidf_f1], \\\n",
    "                              [lg_tfidf_precision, svm_tfidf_precision, rf_tfidf_precision, knn_tfidf_precision], \\\n",
    "                              [lg_tfidf_recall, svm_tfidf_recall, rf_tfidf_recall, knn_tfidf_recall]],\\\n",
    "                              columns=['Logistic Regression', 'SVM', 'Random Forest', 'K Nearest Neighbor'], \\\n",
    "                              index = ['count - accuracy', 'count - f1 score', 'count - precision','count - recall',\\\n",
    "                                       'tfidf_accuracy', 'tfidf - f1 score', 'tfidf - precision', 'tfidf_recall'])\n",
    "model_compare"
   ]
  },
  {
   "cell_type": "code",
   "execution_count": null,
   "metadata": {},
   "outputs": [],
   "source": []
  },
  {
   "cell_type": "code",
   "execution_count": null,
   "metadata": {},
   "outputs": [],
   "source": []
  }
 ],
 "metadata": {
  "kernelspec": {
   "display_name": "Python 3",
   "language": "python",
   "name": "python3"
  },
  "language_info": {
   "codemirror_mode": {
    "name": "ipython",
    "version": 3
   },
   "file_extension": ".py",
   "mimetype": "text/x-python",
   "name": "python",
   "nbconvert_exporter": "python",
   "pygments_lexer": "ipython3",
   "version": "3.7.6"
  }
 },
 "nbformat": 4,
 "nbformat_minor": 4
}
